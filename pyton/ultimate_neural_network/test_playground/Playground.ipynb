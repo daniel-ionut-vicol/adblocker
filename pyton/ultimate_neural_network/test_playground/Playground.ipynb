{
 "cells": [
  {
   "cell_type": "code",
   "execution_count": null,
   "id": "9f31f91f-8981-446c-b36f-09d357d147e2",
   "metadata": {},
   "outputs": [],
   "source": [
    "import os\n",
    "import datetime\n",
    "import numpy as np\n",
    "import tensorflow as tf\n",
    "from tensorflow.keras.applications.resnet50 import ResNet50\n",
    "from tensorflow.keras.preprocessing.image import load_img, img_to_array\n",
    "from tensorflow.keras.models import Model\n",
    "from tensorflow.keras.layers import Dense, GlobalAveragePooling2D\n",
    "from tensorflow.keras.optimizers import Adam\n",
    "from tensorflow.keras.callbacks import ModelCheckpoint, EarlyStopping\n",
    "from sklearn.model_selection import train_test_split\n",
    "\n",
    "# -----------\n",
    "from eval import eval\n",
    "from utils import is_image_corrupt"
   ]
  },
  {
   "cell_type": "code",
   "execution_count": 151,
   "id": "2f9eebc2-cd08-4dec-bc05-82b09790b9bc",
   "metadata": {},
   "outputs": [],
   "source": [
    "# GPU setup configuration \n",
    "tf.keras.backend.clear_session()\n",
    "gpus = tf.config.experimental.list_physical_devices('GPU')"
   ]
  },
  {
   "cell_type": "code",
   "execution_count": 152,
   "id": "a00a631c-e8ab-494a-a19e-7132502fb3b3",
   "metadata": {},
   "outputs": [
    {
     "data": {
      "text/plain": [
       "[]"
      ]
     },
     "execution_count": 152,
     "metadata": {},
     "output_type": "execute_result"
    }
   ],
   "source": [
    "gpus"
   ]
  },
  {
   "cell_type": "code",
   "execution_count": 153,
   "id": "01b13411-b935-4ed3-9d74-cc24125de996",
   "metadata": {},
   "outputs": [
    {
     "name": "stdout",
     "output_type": "stream",
     "text": [
      "INFO:tensorflow:Using MirroredStrategy with devices ('/job:localhost/replica:0/task:0/device:CPU:0',)\n",
      "Number of GPUs: 1\n"
     ]
    }
   ],
   "source": [
    "for gpu in gpus:\n",
    "    tf.config.experimental.set_memory_growth(gpu, True)\n",
    "\n",
    "strategy = tf.distribute.MirroredStrategy()\n",
    "print(f\"Number of GPUs: {strategy.num_replicas_in_sync}\")"
   ]
  },
  {
   "cell_type": "code",
   "execution_count": 131,
   "id": "97362abc-5226-4914-831a-c57435f5fbb3",
   "metadata": {},
   "outputs": [],
   "source": [
    "# Constants from Environment Variables\n",
    "IMAGE_SIZE = int(os.environ.get(\"IMAGE_SIZE\", 224))\n",
    "# Constants from Environment Variables for Image Limits\n",
    "AD_IMAGE_LIMIT = 1800\n",
    "NONAD_IMAGE_LIMIT = 1800\n",
    "BATCH_SIZE = int(os.environ.get(\"BATCH_SIZE\", 32))\n",
    "EPOCHS = int(os.environ.get(\"EPOCHS\", 10))\n",
    "PATIENCE = int(os.environ.get(\"PATIENCE\", 20))\n",
    "DATASET_PATH = os.environ.get(\"DATASET_PATH\", \"/tf/dataset\")\n",
    "VERBOSE_LEVEL = int(os.environ.get(\"VERBOSE_LEVEL\", 1))\n",
    "\n",
    "config = {\n",
    "    'IMAGE_SIZE': IMAGE_SIZE,\n",
    "    'BATCH_SIZE': BATCH_SIZE,\n",
    "    'EPOCHS': EPOCHS,\n",
    "    'PATIENCE': PATIENCE,\n",
    "    'DATASET_PATH': DATASET_PATH,\n",
    "    'VERBOSE_LEVEL': VERBOSE_LEVEL,\n",
    "    'AD_IMAGE_LIMIT': 1800,\n",
    "    'NONAD_IMAGE_LIMIT': 1800\n",
    "}"
   ]
  },
  {
   "cell_type": "code",
   "execution_count": 132,
   "id": "eb874a4a-76c7-439b-8509-69a9f87f491b",
   "metadata": {},
   "outputs": [
    {
     "data": {
      "text/plain": [
       "{'IMAGE_SIZE': 224,\n",
       " 'BATCH_SIZE': 32,\n",
       " 'EPOCHS': 10,\n",
       " 'PATIENCE': 20,\n",
       " 'DATASET_PATH': '/tf/dataset',\n",
       " 'VERBOSE_LEVEL': 1,\n",
       " 'AD_IMAGE_LIMIT': 1800,\n",
       " 'NONAD_IMAGE_LIMIT': 1800}"
      ]
     },
     "execution_count": 132,
     "metadata": {},
     "output_type": "execute_result"
    }
   ],
   "source": [
    "config"
   ]
  },
  {
   "cell_type": "code",
   "execution_count": 133,
   "id": "efd46726-d55f-4fcb-a9ac-e3e6fdf90ce3",
   "metadata": {
    "editable": true,
    "slideshow": {
     "slide_type": ""
    },
    "tags": []
   },
   "outputs": [],
   "source": [
    "with strategy.scope():\n",
    "    base_model = ResNet50(weights='imagenet', include_top=False)\n",
    "    for layer in base_model.layers:\n",
    "        layer.trainable = False\n",
    "\n",
    "    x = GlobalAveragePooling2D()(base_model.output)\n",
    "    x = Dense(1024, activation='relu')(x)\n",
    "    predictions = Dense(1, activation='sigmoid')(x)\n",
    "    model = Model(inputs=base_model.input, outputs=predictions)\n",
    "    model.compile(optimizer=Adam(learning_rate=0.001), loss='binary_crossentropy', metrics=['accuracy'])\n",
    "\n",
    "# Function to load and preprocess a single image\n",
    "def preprocess_image(image_path, target_size):\n",
    "    img = load_img(image_path, target_size=target_size)\n",
    "    img = img_to_array(img)\n",
    "    img = np.expand_dims(img, axis=0)\n",
    "    return tf.keras.applications.resnet50.preprocess_input(img)\n",
    "\n",
    "# Custom generator\n",
    "def custom_generator(file_paths, labels, batch_size, target_size):\n",
    "    num_samples = len(file_paths)\n",
    "    while True:  # Loop forever so the generator never terminates\n",
    "        for offset in range(0, num_samples, batch_size):\n",
    "            batch_paths = file_paths[offset:offset + batch_size]\n",
    "            batch_labels = labels[offset:offset + batch_size]\n",
    "\n",
    "            images = [preprocess_image(path, target_size) for path in batch_paths]\n",
    "            images = np.vstack(images)\n",
    "            \n",
    "            yield images, np.array(batch_labels)\n",
    "\n",
    "# Function to recursively collect all image file paths in a given directory\n",
    "def collect_image_paths(root_dir, label, image_limit):\n",
    "    file_paths = []\n",
    "    labels = []\n",
    "    corrupt_images_log = \"corrupt_images.log\"\n",
    "\n",
    "    image_limit = None if image_limit == \"all\" else int(image_limit)\n",
    "    image_count = 0\n",
    "\n",
    "    print(f\"Scanning in directory: {root_dir}\")  # Debugging print\n",
    "    for subdir, dirs, files in os.walk(root_dir):\n",
    "        for file in files:\n",
    "            if image_limit is not None and image_count >= image_limit:\n",
    "                return file_paths, labels\n",
    "\n",
    "            if file.lower().endswith(('.png', '.jpg', '.jpeg')):\n",
    "                file_path = os.path.join(subdir, file)\n",
    "\n",
    "                if is_image_corrupt(file_path):\n",
    "                    with open(corrupt_images_log, \"a\") as log:\n",
    "                        log.write(file_path + \"\\n\")\n",
    "                    continue\n",
    "\n",
    "                file_paths.append(file_path)\n",
    "                labels.append(label)\n",
    "                image_count += 1\n",
    "\n",
    "    if not file_paths:\n",
    "        print(\"No images found. Check the directory path and file extensions.\")  # Debugging print\n",
    "\n",
    "    return file_paths, labels"
   ]
  },
  {
   "cell_type": "code",
   "execution_count": 134,
   "id": "2294cf33-39d2-45a6-aed5-335374755146",
   "metadata": {
    "scrolled": true
   },
   "outputs": [
    {
     "name": "stdout",
     "output_type": "stream",
     "text": [
      "Scanning in directory: /tf/dataset/ad\n",
      "Scanning in directory: /tf/dataset/nonAd\n"
     ]
    }
   ],
   "source": [
    "# Collect image paths and labels\n",
    "ad_paths, ad_labels = collect_image_paths(os.path.join(DATASET_PATH, 'ad'), 0, AD_IMAGE_LIMIT)\n",
    "nonad_paths, nonad_labels = collect_image_paths(os.path.join(DATASET_PATH, 'nonAd'), 1, NONAD_IMAGE_LIMIT)\n",
    "\n",
    "file_paths = ad_paths + nonad_paths\n",
    "labels = ad_labels + nonad_labels"
   ]
  },
  {
   "cell_type": "code",
   "execution_count": 135,
   "id": "20f55872-a399-4635-bea0-748e82486ecb",
   "metadata": {},
   "outputs": [
    {
     "data": {
      "text/plain": [
       "1800"
      ]
     },
     "execution_count": 135,
     "metadata": {},
     "output_type": "execute_result"
    }
   ],
   "source": [
    "len(nonad_paths)"
   ]
  },
  {
   "cell_type": "code",
   "execution_count": 136,
   "id": "cb8ecbf2-4060-4054-8945-d8f141816255",
   "metadata": {
    "editable": true,
    "slideshow": {
     "slide_type": ""
    },
    "tags": []
   },
   "outputs": [],
   "source": [
    "import matplotlib.pyplot as plt\n",
    "from PIL import Image\n",
    "\n",
    "def display_images(image_paths, num_images=10, offset=0):\n",
    "    \"\"\"\n",
    "    Displays a specific number of images from the provided list of image paths, starting from a given offset.\n",
    "\n",
    "    :param image_paths: List of paths to the images.\n",
    "    :param num_images: Number of images to display.\n",
    "    :param offset: Starting index in image_paths from which to display images.\n",
    "    \"\"\"\n",
    "    # Adjust the offset and num_images if they are out of bounds\n",
    "    if offset < 0:\n",
    "        print(\"Offset is negative. Starting from the beginning.\")\n",
    "        offset = 0\n",
    "\n",
    "    if offset >= len(image_paths):\n",
    "        print(\"Offset is beyond the list length. Showing the last images.\")\n",
    "        offset = max(0, len(image_paths) - num_images)\n",
    "\n",
    "    end_index = min(offset + num_images, len(image_paths))\n",
    "    \n",
    "    plt.figure(figsize=(15, 10))  # Adjust the size as needed\n",
    "\n",
    "    for i, path in enumerate(image_paths[offset:end_index], start=1):\n",
    "        img = Image.open(path)\n",
    "        plt.subplot((num_images + 4) // 5, 5, i)\n",
    "        plt.imshow(img)\n",
    "        plt.axis('off')\n",
    "        plt.title(f\"Image {offset + i}\")\n",
    "\n",
    "    plt.tight_layout()\n",
    "    plt.show()"
   ]
  },
  {
   "cell_type": "code",
   "execution_count": 137,
   "id": "504abac8-82a5-443e-9372-e5a33f06627f",
   "metadata": {},
   "outputs": [],
   "source": [
    "train_paths, val_paths, train_labels, val_labels = train_test_split(file_paths, labels, test_size=0.2, random_state=42)\n",
    "\n",
    "train_generator = custom_generator(train_paths, train_labels, BATCH_SIZE, (IMAGE_SIZE, IMAGE_SIZE))\n",
    "val_generator = custom_generator(val_paths, val_labels, BATCH_SIZE, (IMAGE_SIZE, IMAGE_SIZE))\n",
    "\n",
    "train_steps = len(train_paths) // BATCH_SIZE\n",
    "val_steps = len(val_paths) // BATCH_SIZE"
   ]
  },
  {
   "cell_type": "code",
   "execution_count": 138,
   "id": "efd4a825-1da9-47fc-acff-53104b6b39ee",
   "metadata": {},
   "outputs": [
    {
     "data": {
      "text/plain": [
       "2880"
      ]
     },
     "execution_count": 138,
     "metadata": {},
     "output_type": "execute_result"
    }
   ],
   "source": [
    "len(train_paths)"
   ]
  },
  {
   "cell_type": "markdown",
   "id": "7669eef2-522e-4172-a2e1-637cecb4aaba",
   "metadata": {},
   "source": [
    "# Test the data we pass to the model to learn"
   ]
  },
  {
   "cell_type": "code",
   "execution_count": 139,
   "id": "eb315031-812b-42d5-9ecf-4c5251e50065",
   "metadata": {},
   "outputs": [],
   "source": [
    "import matplotlib.pyplot as plt\n",
    "from collections import Counter\n",
    "import numpy as np\n",
    "import matplotlib.image as img\n",
    "\n",
    "def show_images_from_generator(generator, num_images=5):\n",
    "    # Get a batch of images and labels from the generator\n",
    "    batch_images, batch_labels = next(generator)\n",
    "\n",
    "    # Display the images along with their labels\n",
    "    for i in range(min(num_images, batch_images.shape[0])):\n",
    "        image = batch_images[i]\n",
    "        label = batch_labels[i]\n",
    "\n",
    "        # Assuming the labels are in one-hot encoded format, find the index of the label\n",
    "        label_index = np.argmax(label)\n",
    "\n",
    "        # Display the image and label\n",
    "        plt.imshow(image.astype('uint8'))  # Assuming images are in uint8 format\n",
    "        plt.title(f\"Label: {label_index}\")\n",
    "        plt.show()\n",
    "    \n",
    "def visualize_image_distribution(image_paths, labels, num_images=None):\n",
    "    \"\"\"Visualizes the distribution of image sizes.\"\"\"\n",
    "    # Calculate the maximum image size\n",
    "    max_image_size = 0\n",
    "    if num_images is not None:\n",
    "        image_paths = image_paths[:num_images]\n",
    "        labels = labels[:num_images]\n",
    "\n",
    "    for image_path in image_paths:\n",
    "        image = Image.open(image_path)\n",
    "        image_size = image.size\n",
    "        image_size_int = int(image_size[0])  # Convert the tuple to an integer\n",
    "        max_image_size = max(max_image_size, image_size_int)\n",
    "\n",
    "    # Set the upper limit of the image size axis slightly higher than the maximum image size found\n",
    "    image_sizes = []\n",
    "    for image_path in image_paths:\n",
    "        image = Image.open(image_path)\n",
    "        image_size = image.size\n",
    "        image_size_int = int(image_size[0])\n",
    "        image_sizes.append(image_size_int)\n",
    "\n",
    "    plt.xlim(0, max_image_size * 1.1)\n",
    "\n",
    "    # Visualize the distribution of image sizes\n",
    "    plt.hist(image_sizes, bins=20)\n",
    "    plt.xlabel('Image Size (pixels)')\n",
    "    plt.ylabel('Number of Images')\n",
    "    plt.title('Distribution of Image Sizes (Subset of ' + str(num_images) + ')')\n",
    "    plt.show()\n",
    "\n",
    "def visualize_class_distribution(labels, num_classes=None):\n",
    "    class_counts = Counter(labels)\n",
    "\n",
    "    if num_classes is not None:\n",
    "        class_counts = Counter(labels[:num_classes])\n",
    "\n",
    "    plt.bar(class_counts.keys(), class_counts.values())\n",
    "    plt.xlabel('Class Label')\n",
    "    plt.ylabel('Number of Images')\n",
    "    plt.title('Distribution of Class Labels')\n",
    "    plt.show()"
   ]
  },
  {
   "cell_type": "code",
   "execution_count": 140,
   "id": "bb769b72-9aba-4018-b013-125bb42f8b60",
   "metadata": {},
   "outputs": [
    {
     "data": {
      "image/png": "[encoded data removed]",
      "text/plain": [
       "<Figure size 640x480 with 1 Axes>"
      ]
     },
     "metadata": {},
     "output_type": "display_data"
    }
   ],
   "source": [
    "visualize_class_distribution(train_labels)"
   ]
  },
  {
   "cell_type": "code",
   "execution_count": 141,
   "id": "95691b21-2e64-4e21-91e4-ac63076572f7",
   "metadata": {},
   "outputs": [
    {
     "data": {
      "image/png": "[encoded data removed]",
      "text/plain": [
       "<Figure size 640x480 with 1 Axes>"
      ]
     },
     "metadata": {},
     "output_type": "display_data"
    }
   ],
   "source": [
    "visualize_image_distribution(train_paths, train_labels)"
   ]
  },
  {
   "cell_type": "code",
   "execution_count": 142,
   "id": "69ce9df5-0fe7-4457-bbbc-78b2352fc8a1",
   "metadata": {
    "scrolled": true
   },
   "outputs": [
    {
     "ename": "TypeError",
     "evalue": "show_images() takes from 1 to 2 positional arguments but 4 were given",
     "output_type": "error",
     "traceback": [
      "\u001b[0;31m---------------------------------------------------------------------------\u001b[0m",
      "\u001b[0;31mTypeError\u001b[0m                                 Traceback (most recent call last)",
      "Cell \u001b[0;32mIn[142], line 1\u001b[0m\n\u001b[0;32m----> 1\u001b[0m \u001b[43mshow_images\u001b[49m\u001b[43m(\u001b[49m\u001b[43mtrain_paths\u001b[49m\u001b[43m,\u001b[49m\u001b[43m \u001b[49m\u001b[43mtrain_labels\u001b[49m\u001b[43m,\u001b[49m\u001b[43m \u001b[49m\u001b[38;5;241;43m10\u001b[39;49m\u001b[43m,\u001b[49m\u001b[43m \u001b[49m\u001b[38;5;241;43m2\u001b[39;49m\u001b[43m)\u001b[49m\n",
      "\u001b[0;31mTypeError\u001b[0m: show_images() takes from 1 to 2 positional arguments but 4 were given"
     ]
    }
   ],
   "source": [
    "show_images(train_paths, train_labels, 10, 2)"
   ]
  },
  {
   "cell_type": "code",
   "execution_count": null,
   "id": "737be986-2726-479a-9c0d-a1309a903895",
   "metadata": {},
   "outputs": [],
   "source": [
    "# CALLBACKS -----------------------------------\n",
    "# Define a callback for dynamic checkpoint naming and specific folder\n",
    "def get_checkpoint_callback(folder_name):\n",
    "    checkpoint_dir = os.path.join(\"models\", folder_name, \"checkpoints\")\n",
    "    os.makedirs(checkpoint_dir, exist_ok=True)\n",
    "    checkpoint_callback = ModelCheckpoint(\n",
    "        filepath=os.path.join(\n",
    "            checkpoint_dir,\n",
    "            \"model_epoch_{epoch:04d}_loss_{loss:.4f}_acc_{accuracy:.4f}_val_loss_{val_loss:.4f}_val_acc_{val_accuracy:.4f}.h5\",\n",
    "        ),\n",
    "        save_best_only=True,\n",
    "        monitor=\"val_loss\",  # Monitoring validation loss\n",
    "        mode=\"min\",\n",
    "        save_weights_only=False,  # Save entire model\n",
    "        verbose=VERBOSE_LEVEL,\n",
    "    )\n",
    "    return checkpoint_callback\n",
    "\n",
    "\n",
    "# Define EarlyStopping callback\n",
    "early_stopping = tf.keras.callbacks.EarlyStopping(\n",
    "    monitor=\"val_loss\",  # Metric to monitor (e.g., validation loss)\n",
    "    patience=PATIENCE,  # Number of epochs with no improvement after which training will be stopped\n",
    "    restore_best_weights=True,  # Restore the model weights from the epoch with the best value of the monitored metric\n",
    ")\n",
    "\n",
    "# Create a new directory for models\n",
    "os.makedirs(\"models\", exist_ok=True)\n",
    "\n",
    "start_datetime = datetime.datetime.now()\n",
    "current_model_folder_name = f'model_{start_datetime.strftime(\"%Y-%m-%d_%H-%M-%S\")}'\n",
    "\n",
    "tensorboard_callback = tf.keras.callbacks.TensorBoard(\n",
    "    log_dir=f\"models/{current_model_folder_name}/logs\"\n",
    ")\n",
    "\n",
    "# Fit the model\n",
    "history = model.fit(\n",
    "    train_generator,\n",
    "    steps_per_epoch=train_steps,\n",
    "    epochs=EPOCHS,\n",
    "    validation_data=val_generator,\n",
    "    validation_steps=val_steps,\n",
    "    verbose=VERBOSE_LEVEL,\n",
    "    callbacks=[\n",
    "        tensorboard_callback,\n",
    "        get_checkpoint_callback(current_model_folder_name),\n",
    "        early_stopping,\n",
    "    ],\n",
    ")\n",
    "\n",
    "finish_datetime = datetime.datetime.now()\n",
    "\n",
    "eval(model, val_generator, history, start_datetime, finish_datetime, config)"
   ]
  },
  {
   "cell_type": "markdown",
   "id": "dcae4f05-c632-4b81-ba00-9c19e28bc089",
   "metadata": {},
   "source": [
    "# Eval the model"
   ]
  },
  {
   "cell_type": "code",
   "execution_count": null,
   "id": "ced8fad5-bba4-4dd4-8ba3-c5af5070517c",
   "metadata": {},
   "outputs": [],
   "source": [
    "import tensorflow as tf\n",
    "from tensorflow.keras.models import load_model\n",
    "import numpy as np\n",
    "from PIL import Image"
   ]
  },
  {
   "cell_type": "code",
   "execution_count": null,
   "id": "eb1baf78-39a4-46fc-9273-066480ff2d80",
   "metadata": {},
   "outputs": [],
   "source": [
    "model = load_model(\"./models/model_2023-12-07_09-57-29/checkpoints/model_epoch_0006_loss_0.0000_acc_1.0000_val_loss_0.0005_val_acc_1.0000.h5\")"
   ]
  },
  {
   "cell_type": "code",
   "execution_count": null,
   "id": "0a9045f4-7444-401f-aecb-bb00b555e71d",
   "metadata": {},
   "outputs": [],
   "source": [
    "adImagePath = './test_images/ad.jpg'  # Path to the first unseen image\n",
    "nonAdImagePath = './test_images/nonAd.jpg'  # Path to the first unseen image\n",
    "\n",
    "# Read and resize the images\n",
    "image_1 = Image.open(adImagePath).resize((224, 224))\n",
    "image_1 = np.array(image_1)\n",
    "image_2 = Image.open(nonAdImagePath).resize((224, 224))\n",
    "image_2 = np.array(image_2)\n",
    "\n",
    "# Preprocess the images to match the model's input format\n",
    "images = np.array([image_1, image_2])\n",
    "images = np.expand_dims(images, axis=3)  # Add the batch dimension\n"
   ]
  },
  {
   "cell_type": "code",
   "execution_count": null,
   "id": "18595a8a-0486-4e1f-ac1f-bb3d463f10f9",
   "metadata": {},
   "outputs": [],
   "source": [
    "predictions = model.predict(images)\n",
    "\n",
    "# Get the class labels from the predictions\n",
    "predicted_classes = np.argmax(predictions, axis=1)"
   ]
  }
 ],
 "metadata": {
  "kernelspec": {
   "display_name": "Python 3 (ipykernel)",
   "language": "python",
   "name": "python3"
  },
  "language_info": {
   "codemirror_mode": {
    "name": "ipython",
    "version": 3
   },
   "file_extension": ".py",
   "mimetype": "text/x-python",
   "name": "python",
   "nbconvert_exporter": "python",
   "pygments_lexer": "ipython3",
   "version": "3.11.0rc1"
  }
 },
 "nbformat": 4,
 "nbformat_minor": 5
}
